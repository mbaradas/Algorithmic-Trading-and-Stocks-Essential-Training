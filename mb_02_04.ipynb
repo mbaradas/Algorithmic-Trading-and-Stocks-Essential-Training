{
 "cells": [
  {
   "cell_type": "code",
   "execution_count": 1,
   "metadata": {},
   "outputs": [],
   "source": [
    "import pandas as pd"
   ]
  },
  {
   "cell_type": "code",
   "execution_count": 2,
   "metadata": {},
   "outputs": [],
   "source": [
    "import pandas_datareader as pdr"
   ]
  },
  {
   "cell_type": "code",
   "execution_count": 3,
   "metadata": {},
   "outputs": [],
   "source": [
    "import datetime"
   ]
  },
  {
   "cell_type": "code",
   "execution_count": 4,
   "metadata": {},
   "outputs": [],
   "source": [
    "aapl=pdr.get_data_yahoo('AAPL', start=datetime.datetime(2008,1,1), end=datetime.datetime(2012,1,1))"
   ]
  },
  {
   "cell_type": "code",
   "execution_count": 5,
   "metadata": {},
   "outputs": [
    {
     "data": {
      "text/html": [
       "<div>\n",
       "<style scoped>\n",
       "    .dataframe tbody tr th:only-of-type {\n",
       "        vertical-align: middle;\n",
       "    }\n",
       "\n",
       "    .dataframe tbody tr th {\n",
       "        vertical-align: top;\n",
       "    }\n",
       "\n",
       "    .dataframe thead th {\n",
       "        text-align: right;\n",
       "    }\n",
       "</style>\n",
       "<table border=\"1\" class=\"dataframe\">\n",
       "  <thead>\n",
       "    <tr style=\"text-align: right;\">\n",
       "      <th></th>\n",
       "      <th>High</th>\n",
       "      <th>Low</th>\n",
       "      <th>Open</th>\n",
       "      <th>Close</th>\n",
       "      <th>Volume</th>\n",
       "      <th>Adj Close</th>\n",
       "    </tr>\n",
       "  </thead>\n",
       "  <tbody>\n",
       "    <tr>\n",
       "      <td>count</td>\n",
       "      <td>1009.000000</td>\n",
       "      <td>1009.000000</td>\n",
       "      <td>1009.000000</td>\n",
       "      <td>1009.000000</td>\n",
       "      <td>1.009000e+03</td>\n",
       "      <td>1009.000000</td>\n",
       "    </tr>\n",
       "    <tr>\n",
       "      <td>mean</td>\n",
       "      <td>8.241597</td>\n",
       "      <td>8.041299</td>\n",
       "      <td>8.148315</td>\n",
       "      <td>8.145520</td>\n",
       "      <td>6.980368e+08</td>\n",
       "      <td>6.993877</td>\n",
       "    </tr>\n",
       "    <tr>\n",
       "      <td>std</td>\n",
       "      <td>3.509095</td>\n",
       "      <td>3.479491</td>\n",
       "      <td>3.496529</td>\n",
       "      <td>3.495714</td>\n",
       "      <td>3.949523e+08</td>\n",
       "      <td>3.001477</td>\n",
       "    </tr>\n",
       "    <tr>\n",
       "      <td>min</td>\n",
       "      <td>2.928571</td>\n",
       "      <td>2.792857</td>\n",
       "      <td>2.835357</td>\n",
       "      <td>2.792857</td>\n",
       "      <td>1.574944e+08</td>\n",
       "      <td>2.397993</td>\n",
       "    </tr>\n",
       "    <tr>\n",
       "      <td>25%</td>\n",
       "      <td>5.203929</td>\n",
       "      <td>5.064286</td>\n",
       "      <td>5.136071</td>\n",
       "      <td>5.133571</td>\n",
       "      <td>4.266332e+08</td>\n",
       "      <td>4.407769</td>\n",
       "    </tr>\n",
       "    <tr>\n",
       "      <td>50%</td>\n",
       "      <td>7.307500</td>\n",
       "      <td>7.135714</td>\n",
       "      <td>7.226429</td>\n",
       "      <td>7.217857</td>\n",
       "      <td>5.935636e+08</td>\n",
       "      <td>6.197371</td>\n",
       "    </tr>\n",
       "    <tr>\n",
       "      <td>75%</td>\n",
       "      <td>11.635714</td>\n",
       "      <td>11.482857</td>\n",
       "      <td>11.607143</td>\n",
       "      <td>11.595714</td>\n",
       "      <td>8.506540e+08</td>\n",
       "      <td>9.956268</td>\n",
       "    </tr>\n",
       "    <tr>\n",
       "      <td>max</td>\n",
       "      <td>15.239286</td>\n",
       "      <td>14.856786</td>\n",
       "      <td>15.062857</td>\n",
       "      <td>15.080000</td>\n",
       "      <td>3.372970e+09</td>\n",
       "      <td>12.947935</td>\n",
       "    </tr>\n",
       "  </tbody>\n",
       "</table>\n",
       "</div>"
      ],
      "text/plain": [
       "              High          Low         Open        Close        Volume  \\\n",
       "count  1009.000000  1009.000000  1009.000000  1009.000000  1.009000e+03   \n",
       "mean      8.241597     8.041299     8.148315     8.145520  6.980368e+08   \n",
       "std       3.509095     3.479491     3.496529     3.495714  3.949523e+08   \n",
       "min       2.928571     2.792857     2.835357     2.792857  1.574944e+08   \n",
       "25%       5.203929     5.064286     5.136071     5.133571  4.266332e+08   \n",
       "50%       7.307500     7.135714     7.226429     7.217857  5.935636e+08   \n",
       "75%      11.635714    11.482857    11.607143    11.595714  8.506540e+08   \n",
       "max      15.239286    14.856786    15.062857    15.080000  3.372970e+09   \n",
       "\n",
       "         Adj Close  \n",
       "count  1009.000000  \n",
       "mean      6.993877  \n",
       "std       3.001477  \n",
       "min       2.397993  \n",
       "25%       4.407769  \n",
       "50%       6.197371  \n",
       "75%       9.956268  \n",
       "max      12.947935  "
      ]
     },
     "execution_count": 5,
     "metadata": {},
     "output_type": "execute_result"
    }
   ],
   "source": [
    "aapl.describe()"
   ]
  },
  {
   "cell_type": "code",
   "execution_count": 6,
   "metadata": {},
   "outputs": [],
   "source": [
    "aapl.to_csv('aapl_02_04.csv')"
   ]
  },
  {
   "cell_type": "code",
   "execution_count": 7,
   "metadata": {},
   "outputs": [],
   "source": [
    "download_aapl=\"02_03CSV.csv\""
   ]
  },
  {
   "cell_type": "code",
   "execution_count": 8,
   "metadata": {},
   "outputs": [],
   "source": [
    "aapl['Change']=aapl.Open - aapl.Close"
   ]
  },
  {
   "cell_type": "code",
   "execution_count": 9,
   "metadata": {},
   "outputs": [],
   "source": [
    "aapl['Pct_Chg']=aapl.Change/aapl.Open"
   ]
  },
  {
   "cell_type": "code",
   "execution_count": 10,
   "metadata": {},
   "outputs": [],
   "source": [
    "import matplotlib.pyplot as plt"
   ]
  },
  {
   "cell_type": "code",
   "execution_count": 11,
   "metadata": {},
   "outputs": [
    {
     "data": {
      "text/plain": [
       "<matplotlib.axes._subplots.AxesSubplot at 0x1e25c4e4508>"
      ]
     },
     "execution_count": 11,
     "metadata": {},
     "output_type": "execute_result"
    },
    {
     "data": {
      "image/png": "[encoded data removed]",
      "text/plain": [
       "<Figure size 432x288 with 1 Axes>"
      ]
     },
     "metadata": {
      "needs_background": "light"
     },
     "output_type": "display_data"
    }
   ],
   "source": [
    "aapl['Pct_Chg'].plot(grid=True)"
   ]
  },
  {
   "cell_type": "code",
   "execution_count": 12,
   "metadata": {},
   "outputs": [],
   "source": [
    "plt.show()"
   ]
  },
  {
   "cell_type": "code",
   "execution_count": null,
   "metadata": {},
   "outputs": [],
   "source": []
  }
 ],
 "metadata": {
  "kernelspec": {
   "display_name": "Python 3",
   "language": "python",
   "name": "python3"
  },
  "language_info": {
   "codemirror_mode": {
    "name": "ipython",
    "version": 3
   },
   "file_extension": ".py",
   "mimetype": "text/x-python",
   "name": "python",
   "nbconvert_exporter": "python",
   "pygments_lexer": "ipython3",
   "version": "3.7.4"
  }
 },
 "nbformat": 4,
 "nbformat_minor": 2
}
